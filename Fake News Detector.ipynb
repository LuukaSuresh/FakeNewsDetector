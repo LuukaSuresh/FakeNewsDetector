{
 "cells": [
  {
   "cell_type": "code",
   "execution_count": 1,
   "id": "0d86d867-5164-49ee-b584-03f8b1613703",
   "metadata": {},
   "outputs": [
    {
     "name": "stdout",
     "output_type": "stream",
     "text": [
      "Defaulting to user installation because normal site-packages is not writeable\n",
      "Requirement already satisfied: pandas in c:\\programdata\\anaconda3\\lib\\site-packages (2.2.2)\n",
      "Requirement already satisfied: scikit-learn in c:\\programdata\\anaconda3\\lib\\site-packages (1.4.2)\n",
      "Collecting sentence-transformers\n",
      "  Downloading sentence_transformers-3.4.1-py3-none-any.whl.metadata (10 kB)\n",
      "Requirement already satisfied: joblib in c:\\programdata\\anaconda3\\lib\\site-packages (1.4.2)\n",
      "Requirement already satisfied: numpy>=1.26.0 in c:\\programdata\\anaconda3\\lib\\site-packages (from pandas) (1.26.4)\n",
      "Requirement already satisfied: python-dateutil>=2.8.2 in c:\\programdata\\anaconda3\\lib\\site-packages (from pandas) (2.9.0.post0)\n",
      "Requirement already satisfied: pytz>=2020.1 in c:\\programdata\\anaconda3\\lib\\site-packages (from pandas) (2024.1)\n",
      "Requirement already satisfied: tzdata>=2022.7 in c:\\programdata\\anaconda3\\lib\\site-packages (from pandas) (2023.3)\n",
      "Requirement already satisfied: scipy>=1.6.0 in c:\\programdata\\anaconda3\\lib\\site-packages (from scikit-learn) (1.13.1)\n",
      "Requirement already satisfied: threadpoolctl>=2.0.0 in c:\\programdata\\anaconda3\\lib\\site-packages (from scikit-learn) (2.2.0)\n",
      "Requirement already satisfied: transformers<5.0.0,>=4.41.0 in c:\\users\\sures\\appdata\\roaming\\python\\python312\\site-packages (from sentence-transformers) (4.50.0)\n",
      "Requirement already satisfied: tqdm in c:\\programdata\\anaconda3\\lib\\site-packages (from sentence-transformers) (4.66.4)\n",
      "Requirement already satisfied: torch>=1.11.0 in c:\\users\\sures\\appdata\\roaming\\python\\python312\\site-packages (from sentence-transformers) (2.6.0)\n",
      "Requirement already satisfied: huggingface-hub>=0.20.0 in c:\\users\\sures\\appdata\\roaming\\python\\python312\\site-packages (from sentence-transformers) (0.29.3)\n",
      "Requirement already satisfied: Pillow in c:\\programdata\\anaconda3\\lib\\site-packages (from sentence-transformers) (10.3.0)\n",
      "Requirement already satisfied: filelock in c:\\programdata\\anaconda3\\lib\\site-packages (from huggingface-hub>=0.20.0->sentence-transformers) (3.13.1)\n",
      "Requirement already satisfied: fsspec>=2023.5.0 in c:\\programdata\\anaconda3\\lib\\site-packages (from huggingface-hub>=0.20.0->sentence-transformers) (2024.3.1)\n",
      "Requirement already satisfied: packaging>=20.9 in c:\\programdata\\anaconda3\\lib\\site-packages (from huggingface-hub>=0.20.0->sentence-transformers) (23.2)\n",
      "Requirement already satisfied: pyyaml>=5.1 in c:\\programdata\\anaconda3\\lib\\site-packages (from huggingface-hub>=0.20.0->sentence-transformers) (6.0.1)\n",
      "Requirement already satisfied: requests in c:\\programdata\\anaconda3\\lib\\site-packages (from huggingface-hub>=0.20.0->sentence-transformers) (2.32.2)\n",
      "Requirement already satisfied: typing-extensions>=3.7.4.3 in c:\\programdata\\anaconda3\\lib\\site-packages (from huggingface-hub>=0.20.0->sentence-transformers) (4.11.0)\n",
      "Requirement already satisfied: six>=1.5 in c:\\programdata\\anaconda3\\lib\\site-packages (from python-dateutil>=2.8.2->pandas) (1.16.0)\n",
      "Requirement already satisfied: networkx in c:\\programdata\\anaconda3\\lib\\site-packages (from torch>=1.11.0->sentence-transformers) (3.2.1)\n",
      "Requirement already satisfied: jinja2 in c:\\programdata\\anaconda3\\lib\\site-packages (from torch>=1.11.0->sentence-transformers) (3.1.4)\n",
      "Requirement already satisfied: setuptools in c:\\programdata\\anaconda3\\lib\\site-packages (from torch>=1.11.0->sentence-transformers) (69.5.1)\n",
      "Requirement already satisfied: sympy==1.13.1 in c:\\users\\sures\\appdata\\roaming\\python\\python312\\site-packages (from torch>=1.11.0->sentence-transformers) (1.13.1)\n",
      "Requirement already satisfied: mpmath<1.4,>=1.1.0 in c:\\programdata\\anaconda3\\lib\\site-packages (from sympy==1.13.1->torch>=1.11.0->sentence-transformers) (1.3.0)\n",
      "Requirement already satisfied: colorama in c:\\programdata\\anaconda3\\lib\\site-packages (from tqdm->sentence-transformers) (0.4.6)\n",
      "Requirement already satisfied: regex!=2019.12.17 in c:\\programdata\\anaconda3\\lib\\site-packages (from transformers<5.0.0,>=4.41.0->sentence-transformers) (2023.10.3)\n",
      "Requirement already satisfied: tokenizers<0.22,>=0.21 in c:\\users\\sures\\appdata\\roaming\\python\\python312\\site-packages (from transformers<5.0.0,>=4.41.0->sentence-transformers) (0.21.1)\n",
      "Requirement already satisfied: safetensors>=0.4.3 in c:\\users\\sures\\appdata\\roaming\\python\\python312\\site-packages (from transformers<5.0.0,>=4.41.0->sentence-transformers) (0.5.3)\n",
      "Requirement already satisfied: MarkupSafe>=2.0 in c:\\programdata\\anaconda3\\lib\\site-packages (from jinja2->torch>=1.11.0->sentence-transformers) (2.1.3)\n",
      "Requirement already satisfied: charset-normalizer<4,>=2 in c:\\programdata\\anaconda3\\lib\\site-packages (from requests->huggingface-hub>=0.20.0->sentence-transformers) (2.0.4)\n",
      "Requirement already satisfied: idna<4,>=2.5 in c:\\programdata\\anaconda3\\lib\\site-packages (from requests->huggingface-hub>=0.20.0->sentence-transformers) (3.7)\n",
      "Requirement already satisfied: urllib3<3,>=1.21.1 in c:\\programdata\\anaconda3\\lib\\site-packages (from requests->huggingface-hub>=0.20.0->sentence-transformers) (2.2.2)\n",
      "Requirement already satisfied: certifi>=2017.4.17 in c:\\programdata\\anaconda3\\lib\\site-packages (from requests->huggingface-hub>=0.20.0->sentence-transformers) (2024.6.2)\n",
      "Downloading sentence_transformers-3.4.1-py3-none-any.whl (275 kB)\n",
      "   ---------------------------------------- 0.0/275.9 kB ? eta -:--:--\n",
      "   - -------------------------------------- 10.2/275.9 kB ? eta -:--:--\n",
      "   - -------------------------------------- 10.2/275.9 kB ? eta -:--:--\n",
      "   ---- ---------------------------------- 30.7/275.9 kB 262.6 kB/s eta 0:00:01\n",
      "   -------- ------------------------------ 61.4/275.9 kB 328.2 kB/s eta 0:00:01\n",
      "   ------------- ------------------------- 92.2/275.9 kB 476.3 kB/s eta 0:00:01\n",
      "   ------------------- ------------------ 143.4/275.9 kB 532.5 kB/s eta 0:00:01\n",
      "   ----------------------- -------------- 174.1/275.9 kB 583.1 kB/s eta 0:00:01\n",
      "   ---------------------------- --------- 204.8/275.9 kB 593.2 kB/s eta 0:00:01\n",
      "   ------------------------------------ - 266.2/275.9 kB 682.7 kB/s eta 0:00:01\n",
      "   -------------------------------------- 275.9/275.9 kB 654.3 kB/s eta 0:00:00\n",
      "Installing collected packages: sentence-transformers\n",
      "Successfully installed sentence-transformers-3.4.1\n"
     ]
    }
   ],
   "source": [
    "# Install  libraries\n",
    "!pip install pandas scikit-learn sentence-transformers joblib\n"
   ]
  },
  {
   "cell_type": "code",
   "execution_count": 2,
   "id": "0d289eb2-a267-4a39-bc15-11a5a0490459",
   "metadata": {},
   "outputs": [],
   "source": [
    "# Importing  libraries\n",
    "import pandas as pd\n",
    "import re\n",
    "from sentence_transformers import SentenceTransformer\n",
    "from sklearn.model_selection import train_test_split\n",
    "from sklearn.linear_model import LogisticRegression\n",
    "from sklearn.metrics import accuracy_score, classification_report\n",
    "import joblib\n"
   ]
  },
  {
   "cell_type": "code",
   "execution_count": 22,
   "id": "d9925954-aa1d-45eb-9b0f-56824c9118da",
   "metadata": {},
   "outputs": [
    {
     "data": {
      "text/html": [
       "<div>\n",
       "<style scoped>\n",
       "    .dataframe tbody tr th:only-of-type {\n",
       "        vertical-align: middle;\n",
       "    }\n",
       "\n",
       "    .dataframe tbody tr th {\n",
       "        vertical-align: top;\n",
       "    }\n",
       "\n",
       "    .dataframe thead th {\n",
       "        text-align: right;\n",
       "    }\n",
       "</style>\n",
       "<table border=\"1\" class=\"dataframe\">\n",
       "  <thead>\n",
       "    <tr style=\"text-align: right;\">\n",
       "      <th></th>\n",
       "      <th>title</th>\n",
       "      <th>text</th>\n",
       "      <th>subject</th>\n",
       "      <th>date</th>\n",
       "      <th>label</th>\n",
       "      <th>Unnamed: 4</th>\n",
       "    </tr>\n",
       "  </thead>\n",
       "  <tbody>\n",
       "    <tr>\n",
       "      <th>0</th>\n",
       "      <td>Very Suspicious Smoke Is Billowing Out Of Clo...</td>\n",
       "      <td>During an uncharacteristically blistering hot ...</td>\n",
       "      <td>News</td>\n",
       "      <td>September 1, 2017</td>\n",
       "      <td>1</td>\n",
       "      <td>NaN</td>\n",
       "    </tr>\n",
       "    <tr>\n",
       "      <th>1</th>\n",
       "      <td>Senate votes to begin tax bill negotiations wi...</td>\n",
       "      <td>WASHINGTON (Reuters) - The U.S. Senate voted o...</td>\n",
       "      <td>politicsNews</td>\n",
       "      <td>December 6, 2017</td>\n",
       "      <td>0</td>\n",
       "      <td>NaN</td>\n",
       "    </tr>\n",
       "    <tr>\n",
       "      <th>2</th>\n",
       "      <td>The ‘Fake Melania Trump’ Conspiracy Theory Is...</td>\n",
       "      <td>The Internet is going crazy after photos, vide...</td>\n",
       "      <td>News</td>\n",
       "      <td>October 18, 2017</td>\n",
       "      <td>1</td>\n",
       "      <td>NaN</td>\n",
       "    </tr>\n",
       "    <tr>\n",
       "      <th>3</th>\n",
       "      <td>Trumpcare Is Officially Dead, Senator Collins...</td>\n",
       "      <td>Graham-Cassidy, the latest and worst in a line...</td>\n",
       "      <td>News</td>\n",
       "      <td>September 26, 2017</td>\n",
       "      <td>1</td>\n",
       "      <td>NaN</td>\n",
       "    </tr>\n",
       "    <tr>\n",
       "      <th>4</th>\n",
       "      <td>Former Trump adviser interviewed in Congress i...</td>\n",
       "      <td>WASHINGTON (Reuters) - Walid Phares, a former ...</td>\n",
       "      <td>politicsNews</td>\n",
       "      <td>December 8, 2017</td>\n",
       "      <td>0</td>\n",
       "      <td>NaN</td>\n",
       "    </tr>\n",
       "  </tbody>\n",
       "</table>\n",
       "</div>"
      ],
      "text/plain": [
       "                                               title  \\\n",
       "0   Very Suspicious Smoke Is Billowing Out Of Clo...   \n",
       "1  Senate votes to begin tax bill negotiations wi...   \n",
       "2   The ‘Fake Melania Trump’ Conspiracy Theory Is...   \n",
       "3   Trumpcare Is Officially Dead, Senator Collins...   \n",
       "4  Former Trump adviser interviewed in Congress i...   \n",
       "\n",
       "                                                text       subject  \\\n",
       "0  During an uncharacteristically blistering hot ...          News   \n",
       "1  WASHINGTON (Reuters) - The U.S. Senate voted o...  politicsNews   \n",
       "2  The Internet is going crazy after photos, vide...          News   \n",
       "3  Graham-Cassidy, the latest and worst in a line...          News   \n",
       "4  WASHINGTON (Reuters) - Walid Phares, a former ...  politicsNews   \n",
       "\n",
       "                 date  label  Unnamed: 4  \n",
       "0   September 1, 2017      1         NaN  \n",
       "1   December 6, 2017       0         NaN  \n",
       "2    October 18, 2017      1         NaN  \n",
       "3  September 26, 2017      1         NaN  \n",
       "4   December 8, 2017       0         NaN  "
      ]
     },
     "execution_count": 22,
     "metadata": {},
     "output_type": "execute_result"
    }
   ],
   "source": [
    "# Load fake and true news CSV files\n",
    "fake_df = pd.read_csv('Fake.csv')  \n",
    "true_df = pd.read_csv('True.csv')  \n",
    "\n",
    "# Combine both datasets into one\n",
    "df = pd.concat([fake_df, true_df], ignore_index=True)\n",
    "\n",
    "# Shuffle the dataset to mix fake and true news randomly\n",
    "df = df.sample(frac=1, random_state=42).reset_index(drop=True)\n",
    "\n",
    "# Display first few rows\n",
    "df.head()\n"
   ]
  },
  {
   "cell_type": "code",
   "execution_count": 23,
   "id": "ec3271a9-0573-4d9a-944f-d52030407efd",
   "metadata": {},
   "outputs": [
    {
     "data": {
      "text/plain": [
       "0    very suspicious smoke is billowing out of clos...\n",
       "1    senate votes to begin tax bill negotiations wi...\n",
       "2    the fake melania trump conspiracy theory is ta...\n",
       "3    trumpcare is officially dead senator collins c...\n",
       "4    former trump adviser interviewed in congress i...\n",
       "Name: content, dtype: object"
      ]
     },
     "execution_count": 23,
     "metadata": {},
     "output_type": "execute_result"
    }
   ],
   "source": [
    "# Keep only necessary columns\n",
    "df = df[['title', 'text', 'label']]\n",
    "\n",
    "# Combine 'title' and 'text' into 'content'\n",
    "df['content'] = df['title'] + ' ' + df['text']\n",
    "\n",
    "# Function to clean text\n",
    "def clean_text(text):\n",
    "    text = text.lower()                           # Lowercase the text\n",
    "    text = re.sub(r'\\W+', ' ', text)              # Remove special characters\n",
    "    text = re.sub(r'\\s+', ' ', text)              # Remove extra spaces\n",
    "    return text.strip()\n",
    "\n",
    "# Apply cleaning\n",
    "df['content'] = df['content'].apply(clean_text)\n",
    "\n",
    "# Drop rows with missing content or label\n",
    "df.dropna(subset=['content', 'label'], inplace=True)\n",
    "\n",
    "# Preview cleaned content\n",
    "df['content'].head()\n"
   ]
  },
  {
   "cell_type": "code",
   "execution_count": 24,
   "id": "a40b1113-a970-48e6-813a-14880b38bc8c",
   "metadata": {},
   "outputs": [
    {
     "data": {
      "application/vnd.jupyter.widget-view+json": {
       "model_id": "08ab716efadc4f24ad5d10b0dfdfba8a",
       "version_major": 2,
       "version_minor": 0
      },
      "text/plain": [
       "Batches:   0%|          | 0/32 [00:00<?, ?it/s]"
      ]
     },
     "metadata": {},
     "output_type": "display_data"
    }
   ],
   "source": [
    "# Load the pre-trained sentence transformer model\n",
    "model = SentenceTransformer('all-MiniLM-L6-v2')\n",
    "\n",
    "# Generate semantic embeddings for each news content\n",
    "embeddings = model.encode(df['content'].tolist(), show_progress_bar=True)\n"
   ]
  },
  {
   "cell_type": "code",
   "execution_count": 7,
   "id": "058f53a9-309a-4ada-9875-687e24ddeb32",
   "metadata": {},
   "outputs": [],
   "source": [
    "# Separate features and labels\n",
    "X = embeddings\n",
    "y = df['label'].values\n",
    "\n",
    "# Split the data into training and testing sets (80% train, 20% test)\n",
    "X_train, X_test, y_train, y_test = train_test_split(X, y, test_size=0.2, random_state=42)\n"
   ]
  },
  {
   "cell_type": "code",
   "execution_count": 8,
   "id": "66c9c352-47f5-45bf-91e8-d5fdfd788de8",
   "metadata": {},
   "outputs": [],
   "source": [
    "# Initialize and train the Logistic Regression classifier\n",
    "clf = LogisticRegression(max_iter=1000)\n",
    "clf.fit(X_train, y_train)\n",
    "\n",
    "# Predict on test set\n",
    "y_pred = clf.predict(X_test)\n"
   ]
  },
  {
   "cell_type": "code",
   "execution_count": 9,
   "id": "754a2fd7-8ca5-4006-a11b-ac93c63eb154",
   "metadata": {},
   "outputs": [
    {
     "name": "stdout",
     "output_type": "stream",
     "text": [
      "Accuracy: 0.935\n",
      "Classification Report:\n",
      "               precision    recall  f1-score   support\n",
      "\n",
      "           0       0.92      0.93      0.93        89\n",
      "           1       0.95      0.94      0.94       111\n",
      "\n",
      "    accuracy                           0.94       200\n",
      "   macro avg       0.93      0.93      0.93       200\n",
      "weighted avg       0.94      0.94      0.94       200\n",
      "\n"
     ]
    }
   ],
   "source": [
    "# Print accuracy\n",
    "print(\"Accuracy:\", accuracy_score(y_test, y_pred))\n",
    "\n",
    "# Print detailed classification report\n",
    "print(\"Classification Report:\\n\", classification_report(y_test, y_pred))\n"
   ]
  },
  {
   "cell_type": "code",
   "execution_count": 14,
   "id": "6cc38c5a-025d-4097-a25f-563b3e48e49b",
   "metadata": {},
   "outputs": [
    {
     "data": {
      "image/png": "[encoded data removed]",
      "text/plain": [
       "<Figure size 640x480 with 2 Axes>"
      ]
     },
     "metadata": {},
     "output_type": "display_data"
    }
   ],
   "source": [
    "import matplotlib.pyplot as plt  \n",
    "\n",
    "from sklearn.metrics import confusion_matrix, ConfusionMatrixDisplay\n",
    "\n",
    "# Generate confusion matrix\n",
    "cm = confusion_matrix(y_test, y_pred)\n",
    "disp = ConfusionMatrixDisplay(confusion_matrix=cm, display_labels=['True News', 'Fake News'])\n",
    "\n",
    "# Plot confusion matrix\n",
    "disp.plot(cmap=plt.cm.Blues)\n",
    "plt.title(\"Confusion Matrix\")\n",
    "plt.show()\n"
   ]
  },
  {
   "cell_type": "code",
   "execution_count": null,
   "id": "ae8107ae-b141-43a4-81d4-0a8afc0fc12d",
   "metadata": {},
   "outputs": [],
   "source": []
  },
  {
   "cell_type": "code",
   "execution_count": 31,
   "id": "ab0e9a2f-d006-4bdd-a243-977c09109adc",
   "metadata": {},
   "outputs": [],
   "source": [
    "# Save the classifier\n",
    "joblib.dump(clf, 'fake_news_classifier.pkl')\n",
    "\n",
    "# Save the sentence transformer model\n",
    "model.save('sentence_transformer_model/', safe_serialization=False)"
   ]
  },
  {
   "cell_type": "code",
   "execution_count": null,
   "id": "6f6df908-6efc-485d-90c5-6c678b5a2647",
   "metadata": {},
   "outputs": [],
   "source": [
    "#Load and Test "
   ]
  },
  {
   "cell_type": "code",
   "execution_count": 32,
   "id": "a6e0898f-d235-4b54-a4f0-62778c985ed5",
   "metadata": {},
   "outputs": [
    {
     "name": "stdout",
     "output_type": "stream",
     "text": [
      "Prediction: Fake\n"
     ]
    }
   ],
   "source": [
    "# Load saved model \n",
    "clf = joblib.load('fake_news_classifier.pkl')\n",
    "model = SentenceTransformer('sentence_transformer_model/')\n",
    "\n",
    "# Example new news\n",
    "new_text = \"Breaking news: The economy is booming and stock markets are at an all-time high.\"\n",
    "\n",
    "# Preprocess\n",
    "cleaned_text = clean_text(new_text)\n",
    "\n",
    "# Semantic embedding\n",
    "new_embedding = model.encode([cleaned_text])\n",
    "\n",
    "# Predict\n",
    "prediction = clf.predict(new_embedding)\n",
    "\n",
    "# Show result\n",
    "print(\"Prediction:\", \"Fake\" if prediction[0] == 1 else \"True\")\n"
   ]
  },
  {
   "cell_type": "code",
   "execution_count": 33,
   "id": "95f8ac7b-fc51-4885-b403-c356aeea15bb",
   "metadata": {},
   "outputs": [
    {
     "data": {
      "application/vnd.jupyter.widget-view+json": {
       "model_id": "e2ad68338aab42a29299b2d7d46163c9",
       "version_major": 2,
       "version_minor": 0
      },
      "text/plain": [
       "Batches:   0%|          | 0/16 [00:00<?, ?it/s]"
      ]
     },
     "metadata": {},
     "output_type": "display_data"
    },
    {
     "name": "stdout",
     "output_type": "stream",
     "text": [
      "                                               content Prediction\n",
      "0     Donald Trump Sends Out Embarrassing New Year’...       Fake\n",
      "1     Drunk Bragging Trump Staffer Started Russian ...       Fake\n",
      "2     Sheriff David Clarke Becomes An Internet Joke...       Fake\n",
      "3     Trump Is So Obsessed He Even Has Obama’s Name...       Fake\n",
      "4     Pope Francis Just Called Out Donald Trump Dur...       Fake\n",
      "..                                                 ...        ...\n",
      "494   On The Day A Hurricane Is About To Hit Land, ...       Fake\n",
      "495   RNC Staffer Assigned To Finding Positive Stor...       Fake\n",
      "496   Trump Wants It Both Ways, But You Can’t Pass ...       Fake\n",
      "497   REPORT: Mueller Hot On Trump’s Trail, Has Bui...       Fake\n",
      "498   House Dem Wants GOP On Record: Stop Gov’t Spe...       True\n",
      "\n",
      "[499 rows x 2 columns]\n"
     ]
    }
   ],
   "source": [
    "import pandas as pd\n",
    "import joblib\n",
    "from sentence_transformers import SentenceTransformer\n",
    "import re\n",
    "\n",
    "# Load saved classifier and sentence transformer model\n",
    "clf = joblib.load('fake_news_classifier.pkl')\n",
    "model = SentenceTransformer('sentence_transformer_model/')\n",
    "\n",
    "# Load the CSV file containing news\n",
    "df_new = pd.read_csv('Fake.csv')   \n",
    "\n",
    "# If the CSV has 'title' and 'text' columns, combine them\n",
    "if 'title' in df_new.columns and 'text' in df_new.columns:\n",
    "    df_new['content'] = df_new['title'] + ' ' + df_new['text']\n",
    "elif 'content' not in df_new.columns:\n",
    "    raise ValueError(\"CSV must contain 'content' or both 'title' and 'text' columns.\")\n",
    "\n",
    "# Clean the content (same cleaning function)\n",
    "def clean_text(text):\n",
    "    text = str(text).lower()\n",
    "    text = re.sub(r'\\W+', ' ', text)\n",
    "    text = re.sub(r'\\s+', ' ', text)\n",
    "    return text.strip()\n",
    "\n",
    "# Apply cleaning\n",
    "df_new['cleaned_content'] = df_new['content'].apply(clean_text)\n",
    "\n",
    "# Generate semantic embeddings\n",
    "embeddings = model.encode(df_new['cleaned_content'].tolist(), show_progress_bar=True)\n",
    "\n",
    "#Predict using the classifier\n",
    "predictions = clf.predict(embeddings)\n",
    "\n",
    "# Add predictions to DataFrame\n",
    "df_new['Prediction'] = ['Fake' if pred == 1 else 'True' for pred in predictions]\n",
    "\n",
    "# Display results\n",
    "print(df_new[['content', 'Prediction']])"
   ]
  },
  {
   "cell_type": "code",
   "execution_count": 34,
   "id": "e0c952e9-b222-4d36-8e39-4fd4dcedb174",
   "metadata": {},
   "outputs": [
    {
     "name": "stdout",
     "output_type": "stream",
     "text": [
      "\n",
      "Classification Report:\n",
      "              precision    recall  f1-score   support\n",
      "\n",
      "        True       0.00      0.00      0.00         0\n",
      "        Fake       1.00      0.95      0.97       499\n",
      "\n",
      "    accuracy                           0.95       499\n",
      "   macro avg       0.50      0.47      0.49       499\n",
      "weighted avg       1.00      0.95      0.97       499\n",
      "\n"
     ]
    },
    {
     "name": "stderr",
     "output_type": "stream",
     "text": [
      "C:\\ProgramData\\anaconda3\\Lib\\site-packages\\sklearn\\metrics\\_classification.py:1509: UndefinedMetricWarning: Recall is ill-defined and being set to 0.0 in labels with no true samples. Use `zero_division` parameter to control this behavior.\n",
      "  _warn_prf(average, modifier, f\"{metric.capitalize()} is\", len(result))\n",
      "C:\\ProgramData\\anaconda3\\Lib\\site-packages\\sklearn\\metrics\\_classification.py:1509: UndefinedMetricWarning: Recall is ill-defined and being set to 0.0 in labels with no true samples. Use `zero_division` parameter to control this behavior.\n",
      "  _warn_prf(average, modifier, f\"{metric.capitalize()} is\", len(result))\n",
      "C:\\ProgramData\\anaconda3\\Lib\\site-packages\\sklearn\\metrics\\_classification.py:1509: UndefinedMetricWarning: Recall is ill-defined and being set to 0.0 in labels with no true samples. Use `zero_division` parameter to control this behavior.\n",
      "  _warn_prf(average, modifier, f\"{metric.capitalize()} is\", len(result))\n"
     ]
    },
    {
     "data": {
      "image/png": "[encoded data removed]",
      "text/plain": [
       "<Figure size 640x480 with 2 Axes>"
      ]
     },
     "metadata": {},
     "output_type": "display_data"
    }
   ],
   "source": [
    "from sklearn.metrics import classification_report, confusion_matrix, ConfusionMatrixDisplay\n",
    "import matplotlib.pyplot as plt\n",
    "\n",
    "# Ensure label column exists for evaluation\n",
    "if 'label' in df_new.columns:\n",
    "    print(\"\\nClassification Report:\")\n",
    "    print(classification_report(df_new['label'], predictions, target_names=['True', 'Fake']))\n",
    "\n",
    "    # Confusion Matrix\n",
    "    cm = confusion_matrix(df_new['label'], predictions)\n",
    "    disp = ConfusionMatrixDisplay(confusion_matrix=cm, display_labels=['True', 'Fake'])\n",
    "    disp.plot(cmap=plt.cm.Blues)\n",
    "    plt.title(\"Confusion Matrix\")\n",
    "    plt.show()\n",
    "else:\n",
    "    print(\"\\nGround truth labels ('label' column) not found. Skipping evaluation metrics.\")\n"
   ]
  },
  {
   "cell_type": "code",
   "execution_count": 35,
   "id": "4290e292-ec77-4e09-80ca-84b8c27fff58",
   "metadata": {},
   "outputs": [
    {
     "data": {
      "image/png": "[encoded data removed]",
      "text/plain": [
       "<Figure size 600x400 with 1 Axes>"
      ]
     },
     "metadata": {},
     "output_type": "display_data"
    }
   ],
   "source": [
    "# Bar Chart of Predictions\n",
    "prediction_counts = df_new['Prediction'].value_counts()\n",
    "\n",
    "plt.figure(figsize=(6,4))\n",
    "prediction_counts.plot(kind='bar', color=['green', 'red'])\n",
    "plt.title('Count of Predicted Fake vs True News')\n",
    "plt.xlabel('Prediction')\n",
    "plt.ylabel('Count')\n",
    "plt.xticks(rotation=0)\n",
    "plt.show()\n"
   ]
  },
  {
   "cell_type": "code",
   "execution_count": null,
   "id": "30f7f6a4-8140-459f-8a9d-b3c90a3cdd5c",
   "metadata": {},
   "outputs": [],
   "source": []
  }
 ],
 "metadata": {
  "kernelspec": {
   "display_name": "Python 3 (ipykernel)",
   "language": "python",
   "name": "python3"
  },
  "language_info": {
   "codemirror_mode": {
    "name": "ipython",
    "version": 3
   },
   "file_extension": ".py",
   "mimetype": "text/x-python",
   "name": "python",
   "nbconvert_exporter": "python",
   "pygments_lexer": "ipython3",
   "version": "3.12.4"
  }
 },
 "nbformat": 4,
 "nbformat_minor": 5
}
